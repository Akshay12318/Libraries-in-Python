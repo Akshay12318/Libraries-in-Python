{
 "cells": [
  {
   "cell_type": "markdown",
   "id": "48b50097-9847-42a4-a84b-a5a214f942cf",
   "metadata": {},
   "source": [
    "# PANDAS Library"
   ]
  },
  {
   "cell_type": "markdown",
   "id": "8a6350f5-39ec-4901-9a9d-e8160e30c12f",
   "metadata": {},
   "source": []
  },
  {
   "cell_type": "code",
   "execution_count": 1,
   "id": "80451acd-cc98-45f7-8904-ae90b283cb0e",
   "metadata": {},
   "outputs": [
    {
     "name": "stdout",
     "output_type": "stream",
     "text": [
      "=== 1. Creating DataFrames and Series ===\n",
      "1. DataFrame:\n",
      "       Name  Age  Score\n",
      "0    Alice   24   85.5\n",
      "1      Bob   27   90.0\n",
      "2  Charlie   22    NaN\n",
      "3    David   32   88.5\n",
      "4      Eva   29   95.0\n",
      "\n",
      "2. Series:\n",
      " 0    10\n",
      "1    20\n",
      "2    30\n",
      "dtype: int64\n"
     ]
    }
   ],
   "source": [
    "import pandas as pd\n",
    "import numpy as np\n",
    "\n",
    "print(\"=== 1. Creating DataFrames and Series ===\")\n",
    "data = {'Name': ['Alice', 'Bob', 'Charlie', 'David', 'Eva'],\n",
    "        'Age': [24, 27, 22, 32, 29],\n",
    "        'Score': [85.5, 90.0, np.nan, 88.5, 95.0]}\n",
    "\n",
    "df = pd.DataFrame(data)\n",
    "print(\"1. DataFrame:\\n\", df)\n",
    "\n",
    "s = pd.Series([10, 20, 30])\n",
    "print(\"\\n2. Series:\\n\", s)"
   ]
  },
  {
   "cell_type": "code",
   "execution_count": 2,
   "id": "55f050b1-0bc3-428c-8a30-7f446e2d514a",
   "metadata": {},
   "outputs": [
    {
     "data": {
      "text/plain": [
       "pandas.core.frame.DataFrame"
      ]
     },
     "execution_count": 2,
     "metadata": {},
     "output_type": "execute_result"
    }
   ],
   "source": [
    "type(df)"
   ]
  },
  {
   "cell_type": "code",
   "execution_count": 3,
   "id": "29ed2872-6d96-4cd3-94e8-c623fd945c81",
   "metadata": {},
   "outputs": [
    {
     "data": {
      "text/plain": [
       "pandas.core.series.Series"
      ]
     },
     "execution_count": 3,
     "metadata": {},
     "output_type": "execute_result"
    }
   ],
   "source": [
    "type(s)"
   ]
  },
  {
   "cell_type": "code",
   "execution_count": 4,
   "id": "c62ca917-fbdc-4626-917e-0d47a22c278b",
   "metadata": {},
   "outputs": [],
   "source": [
    "df.to_excel('my data.xlsx',index=False)    #to save a dataframe in excel format"
   ]
  },
  {
   "cell_type": "code",
   "execution_count": 5,
   "id": "c6d9f8b6-127e-4f25-a193-bf5c34f1419d",
   "metadata": {},
   "outputs": [],
   "source": [
    "new_df=pd.read_excel('my data.xlsx')"
   ]
  },
  {
   "cell_type": "code",
   "execution_count": 6,
   "id": "bc6880f5-32a7-4cc4-a0b7-816f12b41c85",
   "metadata": {},
   "outputs": [
    {
     "data": {
      "text/html": [
       "<div>\n",
       "<style scoped>\n",
       "    .dataframe tbody tr th:only-of-type {\n",
       "        vertical-align: middle;\n",
       "    }\n",
       "\n",
       "    .dataframe tbody tr th {\n",
       "        vertical-align: top;\n",
       "    }\n",
       "\n",
       "    .dataframe thead th {\n",
       "        text-align: right;\n",
       "    }\n",
       "</style>\n",
       "<table border=\"1\" class=\"dataframe\">\n",
       "  <thead>\n",
       "    <tr style=\"text-align: right;\">\n",
       "      <th></th>\n",
       "      <th>Name</th>\n",
       "      <th>Age</th>\n",
       "      <th>Score</th>\n",
       "    </tr>\n",
       "  </thead>\n",
       "  <tbody>\n",
       "    <tr>\n",
       "      <th>0</th>\n",
       "      <td>Alice</td>\n",
       "      <td>24</td>\n",
       "      <td>85.5</td>\n",
       "    </tr>\n",
       "    <tr>\n",
       "      <th>1</th>\n",
       "      <td>Bob</td>\n",
       "      <td>27</td>\n",
       "      <td>90.0</td>\n",
       "    </tr>\n",
       "    <tr>\n",
       "      <th>2</th>\n",
       "      <td>Charlie</td>\n",
       "      <td>22</td>\n",
       "      <td>NaN</td>\n",
       "    </tr>\n",
       "    <tr>\n",
       "      <th>3</th>\n",
       "      <td>David</td>\n",
       "      <td>32</td>\n",
       "      <td>88.5</td>\n",
       "    </tr>\n",
       "    <tr>\n",
       "      <th>4</th>\n",
       "      <td>Eva</td>\n",
       "      <td>29</td>\n",
       "      <td>95.0</td>\n",
       "    </tr>\n",
       "  </tbody>\n",
       "</table>\n",
       "</div>"
      ],
      "text/plain": [
       "      Name  Age  Score\n",
       "0    Alice   24   85.5\n",
       "1      Bob   27   90.0\n",
       "2  Charlie   22    NaN\n",
       "3    David   32   88.5\n",
       "4      Eva   29   95.0"
      ]
     },
     "execution_count": 6,
     "metadata": {},
     "output_type": "execute_result"
    }
   ],
   "source": [
    "new_df"
   ]
  },
  {
   "cell_type": "code",
   "execution_count": 7,
   "id": "9f867e3d-853d-45de-b204-0d9d08f86609",
   "metadata": {},
   "outputs": [
    {
     "name": "stdout",
     "output_type": "stream",
     "text": [
      "\n",
      "=== 2. Basic Information ===\n",
      "3. df.head():\n",
      "       Name  Age  Score\n",
      "0    Alice   24   85.5\n",
      "1      Bob   27   90.0\n",
      "2  Charlie   22    NaN\n",
      "3    David   32   88.5\n",
      "4      Eva   29   95.0\n",
      "4. df.tail():\n",
      "       Name  Age  Score\n",
      "0    Alice   24   85.5\n",
      "1      Bob   27   90.0\n",
      "2  Charlie   22    NaN\n",
      "3    David   32   88.5\n",
      "4      Eva   29   95.0\n",
      "5. df.shape: (5, 3)\n",
      "6. df.columns: Index(['Name', 'Age', 'Score'], dtype='object')\n",
      "7. df.index: RangeIndex(start=0, stop=5, step=1)\n",
      "8. df.dtypes:\n",
      " Name      object\n",
      "Age        int64\n",
      "Score    float64\n",
      "dtype: object\n",
      "9. df.info():\n",
      "<class 'pandas.core.frame.DataFrame'>\n",
      "RangeIndex: 5 entries, 0 to 4\n",
      "Data columns (total 3 columns):\n",
      " #   Column  Non-Null Count  Dtype  \n",
      "---  ------  --------------  -----  \n",
      " 0   Name    5 non-null      object \n",
      " 1   Age     5 non-null      int64  \n",
      " 2   Score   4 non-null      float64\n",
      "dtypes: float64(1), int64(1), object(1)\n",
      "memory usage: 252.0+ bytes\n"
     ]
    }
   ],
   "source": [
    "print(\"\\n=== 2. Basic Information ===\")\n",
    "print(\"3. df.head():\\n\", df.head()) #top 5 rows \n",
    "print(\"4. df.tail():\\n\", df.tail()) #bottom 5 rows\n",
    "print(\"5. df.shape:\", df.shape) #return (rows,columns) within dataframe\n",
    "print(\"6. df.columns:\", df.columns) #column names\n",
    "print(\"7. df.index:\", df.index) #total rows\n",
    "print(\"8. df.dtypes:\\n\", df.dtypes) #column data types\n",
    "print(\"9. df.info():\"); df.info() #overall info"
   ]
  },
  {
   "cell_type": "code",
   "execution_count": 8,
   "id": "0a0a2f68-a90c-4c00-957c-e201ca8d093a",
   "metadata": {},
   "outputs": [
    {
     "name": "stdout",
     "output_type": "stream",
     "text": [
      "\n",
      "=== 3. Descriptive Statistics ===\n",
      "10. df.describe():\n",
      "              Age      Score\n",
      "count   5.000000   4.000000\n",
      "mean   26.800000  89.750000\n",
      "std     3.962323   3.968627\n",
      "min    22.000000  85.500000\n",
      "25%    24.000000  87.750000\n",
      "50%    27.000000  89.250000\n",
      "75%    29.000000  91.250000\n",
      "max    32.000000  95.000000\n",
      "11. df['Age'].mean(): 26.8\n",
      "12. df['Age'].median(): 27.0\n",
      "13. df['Age'].mode(): [22, 24, 27, 29, 32]\n",
      "14. df['Score'].isnull():\n",
      " 0    False\n",
      "1    False\n",
      "2     True\n",
      "3    False\n",
      "4    False\n",
      "Name: Score, dtype: bool\n",
      "14. df['Score'].isnull():\n",
      " 1\n"
     ]
    }
   ],
   "source": [
    "print(\"\\n=== 3. Descriptive Statistics ===\")\n",
    "print(\"10. df.describe():\\n\", df.describe())                               #return overall basic calculations\n",
    "print(\"11. df['Age'].mean():\", df['Age'].mean())\n",
    "print(\"12. df['Age'].median():\", df['Age'].median())\n",
    "print(\"13. df['Age'].mode():\", df['Age'].mode().tolist())                  #return mode values into list\n",
    "print(\"14. df['Score'].isnull():\\n\", df['Score'].isnull())                 #to check is null value present or not\n",
    "print(\"14. df['Score'].isnull():\\n\", df['Score'].isnull().sum())           #return total no. of null values."
   ]
  },
  {
   "cell_type": "code",
   "execution_count": 9,
   "id": "9d6fe1e4-7336-44ff-8828-aaccff753876",
   "metadata": {},
   "outputs": [
    {
     "data": {
      "text/html": [
       "<div>\n",
       "<style scoped>\n",
       "    .dataframe tbody tr th:only-of-type {\n",
       "        vertical-align: middle;\n",
       "    }\n",
       "\n",
       "    .dataframe tbody tr th {\n",
       "        vertical-align: top;\n",
       "    }\n",
       "\n",
       "    .dataframe thead th {\n",
       "        text-align: right;\n",
       "    }\n",
       "</style>\n",
       "<table border=\"1\" class=\"dataframe\">\n",
       "  <thead>\n",
       "    <tr style=\"text-align: right;\">\n",
       "      <th></th>\n",
       "      <th>Name</th>\n",
       "      <th>Age</th>\n",
       "      <th>Score</th>\n",
       "    </tr>\n",
       "  </thead>\n",
       "  <tbody>\n",
       "    <tr>\n",
       "      <th>0</th>\n",
       "      <td>Alice</td>\n",
       "      <td>24</td>\n",
       "      <td>85.5</td>\n",
       "    </tr>\n",
       "    <tr>\n",
       "      <th>1</th>\n",
       "      <td>Bob</td>\n",
       "      <td>27</td>\n",
       "      <td>90.0</td>\n",
       "    </tr>\n",
       "  </tbody>\n",
       "</table>\n",
       "</div>"
      ],
      "text/plain": [
       "    Name  Age  Score\n",
       "0  Alice   24   85.5\n",
       "1    Bob   27   90.0"
      ]
     },
     "execution_count": 9,
     "metadata": {},
     "output_type": "execute_result"
    }
   ],
   "source": [
    "df.head(2)"
   ]
  },
  {
   "cell_type": "code",
   "execution_count": 10,
   "id": "e7fb583b-6d95-4344-a031-730db3c14d10",
   "metadata": {},
   "outputs": [
    {
     "name": "stdout",
     "output_type": "stream",
     "text": [
      "\n",
      "=== 4. Handling Missing Values ===\n",
      "15. Fill NaN:\n",
      " 0    85.5\n",
      "1    90.0\n",
      "2     0.0\n",
      "3    88.5\n",
      "4    95.0\n",
      "Name: Score, dtype: float64\n",
      "16. Drop rows with NaN:\n",
      "     Name  Age  Score\n",
      "0  Alice   24   85.5\n",
      "1    Bob   27   90.0\n",
      "3  David   32   88.5\n",
      "4    Eva   29   95.0\n",
      "\n",
      "=== 5. Data Selection & Filtering ===\n",
      "17. df['Name']:\n",
      " 0      Alice\n",
      "1        Bob\n",
      "2    Charlie\n",
      "3      David\n",
      "4        Eva\n",
      "Name: Name, dtype: object\n",
      "18. df[['Name', 'Age']]:\n",
      "       Name  Age\n",
      "0    Alice   24\n",
      "1      Bob   27\n",
      "2  Charlie   22\n",
      "3    David   32\n",
      "4      Eva   29\n",
      "19. df.loc[0]:\n",
      " Name     Alice\n",
      "Age         24\n",
      "Score     85.5\n",
      "Name: 0, dtype: object\n",
      "20. df.iloc[1]:\n",
      " Name      Bob\n",
      "Age        27\n",
      "Score    90.0\n",
      "Name: 1, dtype: object\n",
      "21. df[df['Age'] > 25]:\n",
      "     Name  Age  Score\n",
      "1    Bob   27   90.0\n",
      "3  David   32   88.5\n",
      "4    Eva   29   95.0\n",
      "\n",
      "=== 6. Modifying Data ===\n",
      "22. Add 'Passed' column:\n",
      "       Name  Age  Score  Passed\n",
      "0    Alice   24   85.5    True\n",
      "1      Bob   27   90.0    True\n",
      "2  Charlie   22    NaN   False\n",
      "3    David   32   88.5    True\n",
      "4      Eva   29   95.0    True\n"
     ]
    }
   ],
   "source": [
    "print(\"\\n=== 4. Handling Missing Values ===\")\n",
    "print(\"15. Fill NaN:\\n\", df['Score'].fillna(0))                            #to fill empty values with the set value e.g. 0\n",
    "print(\"16. Drop rows with NaN:\\n\", df.dropna())                            #to drop an empty rows/columns \n",
    "\n",
    "print(\"\\n=== 5. Data Selection & Filtering ===\")\n",
    "print(\"17. df['Name']:\\n\", df['Name'])\n",
    "print(\"18. df[['Name', 'Age']]:\\n\", df[['Name', 'Age']])\n",
    "print(\"19. df.loc[0]:\\n\", df.loc[0])                                      #to locate the series which has non-integer index e.g. A,B,C,...\n",
    "print(\"20. df.iloc[1]:\\n\", df.iloc[1])                                    #to locate the series which has interger as index, e.g. 0,1,2,3,...\n",
    "print(\"21. df[df['Age'] > 25]:\\n\", df[df['Age'] > 25])\n",
    "\n",
    "print(\"\\n=== 6. Modifying Data ===\")\n",
    "df['Passed'] = df['Score'] > 85\n",
    "print(\"22. Add 'Passed' column:\\n\", df)"
   ]
  },
  {
   "cell_type": "code",
   "execution_count": 11,
   "id": "a4849649-6214-45e4-b907-dbaea6fd9133",
   "metadata": {},
   "outputs": [],
   "source": [
    "df['Passed']=['Yes','No','No','No','No']                                    #to  add column in dataframe"
   ]
  },
  {
   "cell_type": "code",
   "execution_count": 12,
   "id": "fc786216-627c-4ebb-8d79-8ecac0173af8",
   "metadata": {},
   "outputs": [],
   "source": [
    "fruits=pd.DataFrame({'kg':[3,4,5],'units':[20,40,50]},index=['apple','mango','banana'])"
   ]
  },
  {
   "cell_type": "code",
   "execution_count": 13,
   "id": "0e27965b-8af9-4363-989f-7ac841cea156",
   "metadata": {},
   "outputs": [],
   "source": [
    "df.drop(2,axis=0,inplace=True)                                              #to delete a row placed at index 2"
   ]
  },
  {
   "cell_type": "code",
   "execution_count": 14,
   "id": "7eded7b6-bdc9-47cd-8b9a-634167229d5d",
   "metadata": {},
   "outputs": [
    {
     "data": {
      "text/html": [
       "<div>\n",
       "<style scoped>\n",
       "    .dataframe tbody tr th:only-of-type {\n",
       "        vertical-align: middle;\n",
       "    }\n",
       "\n",
       "    .dataframe tbody tr th {\n",
       "        vertical-align: top;\n",
       "    }\n",
       "\n",
       "    .dataframe thead th {\n",
       "        text-align: right;\n",
       "    }\n",
       "</style>\n",
       "<table border=\"1\" class=\"dataframe\">\n",
       "  <thead>\n",
       "    <tr style=\"text-align: right;\">\n",
       "      <th></th>\n",
       "      <th>Name</th>\n",
       "      <th>Age</th>\n",
       "      <th>Score</th>\n",
       "      <th>Passed</th>\n",
       "    </tr>\n",
       "  </thead>\n",
       "  <tbody>\n",
       "    <tr>\n",
       "      <th>0</th>\n",
       "      <td>Alice</td>\n",
       "      <td>24</td>\n",
       "      <td>85.5</td>\n",
       "      <td>Yes</td>\n",
       "    </tr>\n",
       "    <tr>\n",
       "      <th>1</th>\n",
       "      <td>Bob</td>\n",
       "      <td>27</td>\n",
       "      <td>90.0</td>\n",
       "      <td>No</td>\n",
       "    </tr>\n",
       "    <tr>\n",
       "      <th>2</th>\n",
       "      <td>David</td>\n",
       "      <td>32</td>\n",
       "      <td>88.5</td>\n",
       "      <td>No</td>\n",
       "    </tr>\n",
       "    <tr>\n",
       "      <th>3</th>\n",
       "      <td>Eva</td>\n",
       "      <td>29</td>\n",
       "      <td>95.0</td>\n",
       "      <td>No</td>\n",
       "    </tr>\n",
       "  </tbody>\n",
       "</table>\n",
       "</div>"
      ],
      "text/plain": [
       "    Name  Age  Score Passed\n",
       "0  Alice   24   85.5    Yes\n",
       "1    Bob   27   90.0     No\n",
       "2  David   32   88.5     No\n",
       "3    Eva   29   95.0     No"
      ]
     },
     "execution_count": 14,
     "metadata": {},
     "output_type": "execute_result"
    }
   ],
   "source": [
    "df.reset_index(drop=True) "
   ]
  },
  {
   "cell_type": "code",
   "execution_count": 15,
   "id": "62867e38-9e23-4729-927d-5c495418b697",
   "metadata": {},
   "outputs": [
    {
     "data": {
      "text/html": [
       "<div>\n",
       "<style scoped>\n",
       "    .dataframe tbody tr th:only-of-type {\n",
       "        vertical-align: middle;\n",
       "    }\n",
       "\n",
       "    .dataframe tbody tr th {\n",
       "        vertical-align: top;\n",
       "    }\n",
       "\n",
       "    .dataframe thead th {\n",
       "        text-align: right;\n",
       "    }\n",
       "</style>\n",
       "<table border=\"1\" class=\"dataframe\">\n",
       "  <thead>\n",
       "    <tr style=\"text-align: right;\">\n",
       "      <th></th>\n",
       "      <th>Name</th>\n",
       "      <th>Age</th>\n",
       "      <th>Score</th>\n",
       "    </tr>\n",
       "  </thead>\n",
       "  <tbody>\n",
       "    <tr>\n",
       "      <th>0</th>\n",
       "      <td>Alice</td>\n",
       "      <td>24</td>\n",
       "      <td>85.5</td>\n",
       "    </tr>\n",
       "    <tr>\n",
       "      <th>1</th>\n",
       "      <td>Bob</td>\n",
       "      <td>27</td>\n",
       "      <td>90.0</td>\n",
       "    </tr>\n",
       "    <tr>\n",
       "      <th>3</th>\n",
       "      <td>David</td>\n",
       "      <td>32</td>\n",
       "      <td>88.5</td>\n",
       "    </tr>\n",
       "    <tr>\n",
       "      <th>4</th>\n",
       "      <td>Eva</td>\n",
       "      <td>29</td>\n",
       "      <td>95.0</td>\n",
       "    </tr>\n",
       "  </tbody>\n",
       "</table>\n",
       "</div>"
      ],
      "text/plain": [
       "    Name  Age  Score\n",
       "0  Alice   24   85.5\n",
       "1    Bob   27   90.0\n",
       "3  David   32   88.5\n",
       "4    Eva   29   95.0"
      ]
     },
     "execution_count": 15,
     "metadata": {},
     "output_type": "execute_result"
    }
   ],
   "source": [
    "df.drop('Passed',axis=1)                                                    #to delete a column having name passed"
   ]
  },
  {
   "cell_type": "code",
   "execution_count": 16,
   "id": "7c272774-8d2f-43d5-af16-926c24ad84ec",
   "metadata": {},
   "outputs": [
    {
     "data": {
      "text/html": [
       "<div>\n",
       "<style scoped>\n",
       "    .dataframe tbody tr th:only-of-type {\n",
       "        vertical-align: middle;\n",
       "    }\n",
       "\n",
       "    .dataframe tbody tr th {\n",
       "        vertical-align: top;\n",
       "    }\n",
       "\n",
       "    .dataframe thead th {\n",
       "        text-align: right;\n",
       "    }\n",
       "</style>\n",
       "<table border=\"1\" class=\"dataframe\">\n",
       "  <thead>\n",
       "    <tr style=\"text-align: right;\">\n",
       "      <th></th>\n",
       "      <th>Name</th>\n",
       "      <th>Age</th>\n",
       "      <th>Score</th>\n",
       "      <th>Passed</th>\n",
       "    </tr>\n",
       "  </thead>\n",
       "  <tbody>\n",
       "    <tr>\n",
       "      <th>3</th>\n",
       "      <td>David</td>\n",
       "      <td>32</td>\n",
       "      <td>88.5</td>\n",
       "      <td>No</td>\n",
       "    </tr>\n",
       "    <tr>\n",
       "      <th>4</th>\n",
       "      <td>Eva</td>\n",
       "      <td>29</td>\n",
       "      <td>95.0</td>\n",
       "      <td>No</td>\n",
       "    </tr>\n",
       "  </tbody>\n",
       "</table>\n",
       "</div>"
      ],
      "text/plain": [
       "    Name  Age  Score Passed\n",
       "3  David   32   88.5     No\n",
       "4    Eva   29   95.0     No"
      ]
     },
     "execution_count": 16,
     "metadata": {},
     "output_type": "execute_result"
    }
   ],
   "source": [
    "# In pandas by default axis=0 means dealing with rows\n",
    "# In pandas Returns a new DataFrame unless you use inplace=True., it will not replace original table unless you do inplace =True\n",
    "\n",
    "df.drop([0,1])                                                              # it will drop a rows with index 0 & 1\n"
   ]
  },
  {
   "cell_type": "code",
   "execution_count": 17,
   "id": "5328ef25-8458-43ed-beb7-42e58c4b60bd",
   "metadata": {},
   "outputs": [
    {
     "data": {
      "text/html": [
       "<div>\n",
       "<style scoped>\n",
       "    .dataframe tbody tr th:only-of-type {\n",
       "        vertical-align: middle;\n",
       "    }\n",
       "\n",
       "    .dataframe tbody tr th {\n",
       "        vertical-align: top;\n",
       "    }\n",
       "\n",
       "    .dataframe thead th {\n",
       "        text-align: right;\n",
       "    }\n",
       "</style>\n",
       "<table border=\"1\" class=\"dataframe\">\n",
       "  <thead>\n",
       "    <tr style=\"text-align: right;\">\n",
       "      <th></th>\n",
       "      <th>Name</th>\n",
       "      <th>Passed</th>\n",
       "    </tr>\n",
       "  </thead>\n",
       "  <tbody>\n",
       "    <tr>\n",
       "      <th>0</th>\n",
       "      <td>Alice</td>\n",
       "      <td>Yes</td>\n",
       "    </tr>\n",
       "    <tr>\n",
       "      <th>1</th>\n",
       "      <td>Bob</td>\n",
       "      <td>No</td>\n",
       "    </tr>\n",
       "    <tr>\n",
       "      <th>3</th>\n",
       "      <td>David</td>\n",
       "      <td>No</td>\n",
       "    </tr>\n",
       "    <tr>\n",
       "      <th>4</th>\n",
       "      <td>Eva</td>\n",
       "      <td>No</td>\n",
       "    </tr>\n",
       "  </tbody>\n",
       "</table>\n",
       "</div>"
      ],
      "text/plain": [
       "    Name Passed\n",
       "0  Alice    Yes\n",
       "1    Bob     No\n",
       "3  David     No\n",
       "4    Eva     No"
      ]
     },
     "execution_count": 17,
     "metadata": {},
     "output_type": "execute_result"
    }
   ],
   "source": [
    "# In pandas, drop() does not require double brackets for multiple columns.\n",
    "df.drop(['Score','Age'],axis=1)"
   ]
  },
  {
   "cell_type": "markdown",
   "id": "334a18f1-070a-487d-9381-386313a35415",
   "metadata": {},
   "source": [
    "# Advanced"
   ]
  },
  {
   "cell_type": "code",
   "execution_count": 21,
   "id": "8f3b1cca-10b7-441d-88a4-e28e9408f260",
   "metadata": {},
   "outputs": [
    {
     "name": "stdout",
     "output_type": "stream",
     "text": [
      "23. Modify single value:\n",
      "     Name   Age  Score Passed\n",
      "0  Alice  24.0   85.5    Yes\n",
      "1    Bob  27.0   90.0     No\n",
      "3  David  32.0   88.5     No\n",
      "4    Eva  29.0   95.0     No\n",
      "2    NaN   NaN   78.0    NaN\n",
      "\n",
      "=== 7. Sorting & Grouping ===\n",
      "24. Sorted by Age:\n",
      "     Name   Age  Score Passed\n",
      "0  Alice  24.0   85.5    Yes\n",
      "1    Bob  27.0   90.0     No\n",
      "4    Eva  29.0   95.0     No\n",
      "3  David  32.0   88.5     No\n",
      "2    NaN   NaN   78.0    NaN\n",
      "25. Group by Passed:\n",
      " Passed\n",
      "No     91.166667\n",
      "Yes    85.500000\n",
      "Name: Score, dtype: float64\n",
      "\n",
      "=== 8. File I/O (Commented out) ===\n",
      "\n",
      "=== 9. Advanced Indexing & Operations ===\n",
      "26. Unique Ages: [24. 27. 32. 29. nan]\n",
      "27. Value counts (Age):\n",
      " Age\n",
      "24.0    1\n",
      "27.0    1\n",
      "32.0    1\n",
      "29.0    1\n",
      "Name: count, dtype: int64\n",
      "28. Apply function (double Age):\n",
      " 0    48.0\n",
      "1    54.0\n",
      "3    64.0\n",
      "4    58.0\n",
      "2     NaN\n",
      "Name: Age, dtype: float64\n",
      "29. Rename columns:\n",
      "     Name   Age  Marks Passed\n",
      "0  Alice  24.0   85.5    Yes\n",
      "1    Bob  27.0   90.0     No\n",
      "3  David  32.0   88.5     No\n",
      "4    Eva  29.0   95.0     No\n",
      "2    NaN   NaN   78.0    NaN\n",
      "30. Drop column 'Passed':\n",
      "     Name   Age  Score\n",
      "0  Alice  24.0   85.5\n",
      "1    Bob  27.0   90.0\n",
      "3  David  32.0   88.5\n",
      "4    Eva  29.0   95.0\n",
      "2    NaN   NaN   78.0\n"
     ]
    }
   ],
   "source": [
    "df.at[2, 'Score'] = 78                                             #to modify a single particular cell \n",
    "print(\"23. Modify single value:\\n\", df)  \n",
    "\n",
    "print(\"\\n=== 7. Sorting & Grouping ===\")\n",
    "print(\"24. Sorted by Age:\\n\", df.sort_values(by='Age'))\n",
    "print(\"25. Group by Passed:\\n\", df.groupby(\"Passed\")[\"Score\"].mean())\n",
    "print(\"\\n=== 8. File I/O (Commented out) ===\")\n",
    "# df.to_csv('output.csv', index=False)  # 26. Save to CSV\n",
    "# df2 = pd.read_csv('output.csv')      # 27. Read from CSV\n",
    "\n",
    "print(\"\\n=== 9. Advanced Indexing & Operations ===\")\n",
    "print(\"26. Unique Ages:\", df['Age'].unique())\n",
    "print(\"27. Value counts (Age):\\n\", df['Age'].value_counts())\n",
    "print(\"28. Apply function (double Age):\\n\", df['Age'].apply(lambda x: x * 2))\n",
    "print(\"29. Rename columns:\\n\", df.rename(columns={'Score': 'Marks'}))\n",
    "print(\"30. Drop column 'Passed':\\n\", df.drop(columns=['Passed']))  "
   ]
  },
  {
   "cell_type": "markdown",
   "id": "b420a3e7-d79e-46be-bca6-06b2feecf8ee",
   "metadata": {},
   "source": [
    "# To read Json using pandas"
   ]
  },
  {
   "cell_type": "code",
   "execution_count": 29,
   "id": "dc2221f7-3679-464b-90b0-86aea063bf10",
   "metadata": {},
   "outputs": [
    {
     "data": {
      "text/html": [
       "<div>\n",
       "<style scoped>\n",
       "    .dataframe tbody tr th:only-of-type {\n",
       "        vertical-align: middle;\n",
       "    }\n",
       "\n",
       "    .dataframe tbody tr th {\n",
       "        vertical-align: top;\n",
       "    }\n",
       "\n",
       "    .dataframe thead th {\n",
       "        text-align: right;\n",
       "    }\n",
       "</style>\n",
       "<table border=\"1\" class=\"dataframe\">\n",
       "  <thead>\n",
       "    <tr style=\"text-align: right;\">\n",
       "      <th></th>\n",
       "      <th>name</th>\n",
       "      <th>age</th>\n",
       "      <th>gender</th>\n",
       "      <th>marks_12th</th>\n",
       "      <th>qualification_exam</th>\n",
       "      <th>desired_course</th>\n",
       "    </tr>\n",
       "  </thead>\n",
       "  <tbody>\n",
       "    <tr>\n",
       "      <th>Physics</th>\n",
       "      <td>Akshay Kumar</td>\n",
       "      <td>18</td>\n",
       "      <td>Male</td>\n",
       "      <td>85.0</td>\n",
       "      <td>NaN</td>\n",
       "      <td>Computer Science Engineering</td>\n",
       "    </tr>\n",
       "    <tr>\n",
       "      <th>Chemistry</th>\n",
       "      <td>Akshay Kumar</td>\n",
       "      <td>18</td>\n",
       "      <td>Male</td>\n",
       "      <td>78.0</td>\n",
       "      <td>NaN</td>\n",
       "      <td>Computer Science Engineering</td>\n",
       "    </tr>\n",
       "    <tr>\n",
       "      <th>Maths</th>\n",
       "      <td>Akshay Kumar</td>\n",
       "      <td>18</td>\n",
       "      <td>Male</td>\n",
       "      <td>90.0</td>\n",
       "      <td>NaN</td>\n",
       "      <td>Computer Science Engineering</td>\n",
       "    </tr>\n",
       "    <tr>\n",
       "      <th>English</th>\n",
       "      <td>Akshay Kumar</td>\n",
       "      <td>18</td>\n",
       "      <td>Male</td>\n",
       "      <td>80.0</td>\n",
       "      <td>NaN</td>\n",
       "      <td>Computer Science Engineering</td>\n",
       "    </tr>\n",
       "    <tr>\n",
       "      <th>Computer Science</th>\n",
       "      <td>Akshay Kumar</td>\n",
       "      <td>18</td>\n",
       "      <td>Male</td>\n",
       "      <td>88.0</td>\n",
       "      <td>NaN</td>\n",
       "      <td>Computer Science Engineering</td>\n",
       "    </tr>\n",
       "    <tr>\n",
       "      <th>exam_name</th>\n",
       "      <td>Akshay Kumar</td>\n",
       "      <td>18</td>\n",
       "      <td>Male</td>\n",
       "      <td>NaN</td>\n",
       "      <td>JEE</td>\n",
       "      <td>Computer Science Engineering</td>\n",
       "    </tr>\n",
       "    <tr>\n",
       "      <th>score</th>\n",
       "      <td>Akshay Kumar</td>\n",
       "      <td>18</td>\n",
       "      <td>Male</td>\n",
       "      <td>NaN</td>\n",
       "      <td>92</td>\n",
       "      <td>Computer Science Engineering</td>\n",
       "    </tr>\n",
       "  </tbody>\n",
       "</table>\n",
       "</div>"
      ],
      "text/plain": [
       "                          name  age gender  marks_12th qualification_exam  \\\n",
       "Physics           Akshay Kumar   18   Male        85.0                NaN   \n",
       "Chemistry         Akshay Kumar   18   Male        78.0                NaN   \n",
       "Maths             Akshay Kumar   18   Male        90.0                NaN   \n",
       "English           Akshay Kumar   18   Male        80.0                NaN   \n",
       "Computer Science  Akshay Kumar   18   Male        88.0                NaN   \n",
       "exam_name         Akshay Kumar   18   Male         NaN                JEE   \n",
       "score             Akshay Kumar   18   Male         NaN                 92   \n",
       "\n",
       "                                desired_course  \n",
       "Physics           Computer Science Engineering  \n",
       "Chemistry         Computer Science Engineering  \n",
       "Maths             Computer Science Engineering  \n",
       "English           Computer Science Engineering  \n",
       "Computer Science  Computer Science Engineering  \n",
       "exam_name         Computer Science Engineering  \n",
       "score             Computer Science Engineering  "
      ]
     },
     "execution_count": 29,
     "metadata": {},
     "output_type": "execute_result"
    }
   ],
   "source": [
    "import pandas as pd\n",
    "\n",
    "df=pd.read_json(\"sample_students.json\")     \n",
    "df\n",
    "\n",
    "# print(df.to_string())  ->we can also used this method to display / store a data within Dataframe in string format. "
   ]
  },
  {
   "cell_type": "markdown",
   "id": "3ee9d240-d430-4a3d-a677-9cb8ab74a533",
   "metadata": {},
   "source": [
    "# To read SQLITE3- Database File"
   ]
  },
  {
   "cell_type": "code",
   "execution_count": 36,
   "id": "9b63c248-7e7e-4d14-a92d-7d57338d15e9",
   "metadata": {},
   "outputs": [
    {
     "data": {
      "text/html": [
       "<div>\n",
       "<style scoped>\n",
       "    .dataframe tbody tr th:only-of-type {\n",
       "        vertical-align: middle;\n",
       "    }\n",
       "\n",
       "    .dataframe tbody tr th {\n",
       "        vertical-align: top;\n",
       "    }\n",
       "\n",
       "    .dataframe thead th {\n",
       "        text-align: right;\n",
       "    }\n",
       "</style>\n",
       "<table border=\"1\" class=\"dataframe\">\n",
       "  <thead>\n",
       "    <tr style=\"text-align: right;\">\n",
       "      <th></th>\n",
       "      <th>id</th>\n",
       "      <th>name</th>\n",
       "    </tr>\n",
       "  </thead>\n",
       "  <tbody>\n",
       "    <tr>\n",
       "      <th>0</th>\n",
       "      <td>2</td>\n",
       "      <td>Akshay</td>\n",
       "    </tr>\n",
       "  </tbody>\n",
       "</table>\n",
       "</div>"
      ],
      "text/plain": [
       "   id    name\n",
       "0   2  Akshay"
      ]
     },
     "execution_count": 36,
     "metadata": {},
     "output_type": "execute_result"
    }
   ],
   "source": [
    "# using pandas to see the results more precisely\n",
    "import sqlite3\n",
    "import pandas as pd\n",
    "\n",
    "with sqlite3.connect(\"akshay.db\") as connection:\n",
    "    df=pd.read_sql(\"select * from data\",connection)   #here data is a table within database named akshay\n",
    "df\n"
   ]
  },
  {
   "cell_type": "code",
   "execution_count": null,
   "id": "e2da7704-1c8c-4cef-8492-6eb1a7add79c",
   "metadata": {},
   "outputs": [],
   "source": []
  }
 ],
 "metadata": {
  "kernelspec": {
   "display_name": "Python 3 (ipykernel)",
   "language": "python",
   "name": "python3"
  },
  "language_info": {
   "codemirror_mode": {
    "name": "ipython",
    "version": 3
   },
   "file_extension": ".py",
   "mimetype": "text/x-python",
   "name": "python",
   "nbconvert_exporter": "python",
   "pygments_lexer": "ipython3",
   "version": "3.13.5"
  }
 },
 "nbformat": 4,
 "nbformat_minor": 5
}
