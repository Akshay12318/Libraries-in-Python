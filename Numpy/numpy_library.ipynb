{
 "cells": [
  {
   "cell_type": "code",
   "execution_count": 1,
   "id": "7ea997aa-4a97-46d0-a0bb-f26186ba41cd",
   "metadata": {},
   "outputs": [],
   "source": [
    "import numpy as np"
   ]
  },
  {
   "cell_type": "code",
   "execution_count": 2,
   "id": "2ad85048-4402-4852-8fa1-5ff2a8f79759",
   "metadata": {},
   "outputs": [
    {
     "data": {
      "text/plain": [
       "array([1, 2, 3])"
      ]
     },
     "execution_count": 2,
     "metadata": {},
     "output_type": "execute_result"
    }
   ],
   "source": [
    "a=np.array([1,2,3])    #creating an array\n",
    "a\n",
    "# type(a)"
   ]
  },
  {
   "cell_type": "code",
   "execution_count": 3,
   "id": "69acc367-7ad3-4a3a-9722-d8706d871395",
   "metadata": {},
   "outputs": [
    {
     "data": {
      "text/plain": [
       "[1, 2, 3]"
      ]
     },
     "execution_count": 3,
     "metadata": {},
     "output_type": "execute_result"
    }
   ],
   "source": [
    "li=[1,2,3]\n",
    "li\n",
    "# type(li)"
   ]
  },
  {
   "cell_type": "code",
   "execution_count": 4,
   "id": "3d782c74-77c3-482b-9a39-2c5501976a22",
   "metadata": {},
   "outputs": [
    {
     "data": {
      "text/plain": [
       "array([[0., 0., 0.],\n",
       "       [0., 0., 0.]])"
      ]
     },
     "execution_count": 4,
     "metadata": {},
     "output_type": "execute_result"
    }
   ],
   "source": [
    "b=np.zeros((2,3))    #creating a metrix with column-2 & rows-3 with value-0\n",
    "b"
   ]
  },
  {
   "cell_type": "code",
   "execution_count": 5,
   "id": "1be06248-2634-40f2-9d83-2d5dc611e3e7",
   "metadata": {},
   "outputs": [
    {
     "data": {
      "text/plain": [
       "array([[1., 1.],\n",
       "       [1., 1.],\n",
       "       [1., 1.]])"
      ]
     },
     "execution_count": 5,
     "metadata": {},
     "output_type": "execute_result"
    }
   ],
   "source": [
    "c=np.ones((3,2))   #to create a matrix with 2 dimensional & value-1\n",
    "c"
   ]
  },
  {
   "cell_type": "code",
   "execution_count": 6,
   "id": "e8891412-052f-4573-aaaf-0dd64f099b5c",
   "metadata": {},
   "outputs": [
    {
     "data": {
      "text/plain": [
       "array([[7, 7, 7],\n",
       "       [7, 7, 7],\n",
       "       [7, 7, 7]])"
      ]
     },
     "execution_count": 6,
     "metadata": {},
     "output_type": "execute_result"
    }
   ],
   "source": [
    "d=np.full((3,3),7)    #to create a matrix of any dimention including 3-Dimentions\n",
    "d"
   ]
  },
  {
   "cell_type": "code",
   "execution_count": 7,
   "id": "43b9fb60-38e0-4034-8c32-12967d6a01b6",
   "metadata": {},
   "outputs": [
    {
     "data": {
      "text/plain": [
       "array([[1., 0., 0.],\n",
       "       [0., 1., 0.],\n",
       "       [0., 0., 1.]])"
      ]
     },
     "execution_count": 7,
     "metadata": {},
     "output_type": "execute_result"
    }
   ],
   "source": [
    "e=np.eye(3)         #to create identical matrix\n",
    "e"
   ]
  },
  {
   "cell_type": "code",
   "execution_count": 8,
   "id": "a3eea02c-5aad-4d7f-98fe-c0b52f8eb981",
   "metadata": {},
   "outputs": [
    {
     "data": {
      "text/plain": [
       "array([0, 2, 4, 6, 8])"
      ]
     },
     "execution_count": 8,
     "metadata": {},
     "output_type": "execute_result"
    }
   ],
   "source": [
    "f=np.arange(0,10,2)     #to create a set of numbers  from start-0 to end-10 with step=2\n",
    "f"
   ]
  },
  {
   "cell_type": "code",
   "execution_count": 9,
   "id": "e1327ef4-7b1a-4213-a557-19cae426f502",
   "metadata": {},
   "outputs": [
    {
     "data": {
      "text/plain": [
       "array([0.        , 0.11111111, 0.22222222, 0.33333333, 0.44444444,\n",
       "       0.55555556, 0.66666667, 0.77777778, 0.88888889, 1.        ])"
      ]
     },
     "execution_count": 9,
     "metadata": {},
     "output_type": "execute_result"
    }
   ],
   "source": [
    " # linspace() allows you to specify the total number of points you want in the array, \n",
    "# and NumPy will calculate the spacing between the numbers automatically.\n",
    "\n",
    "\n",
    "g=np.linspace(0,1,10)   #it generates an array of 10 numbers between 0 and 1, including both endpoints.\n",
    "g"
   ]
  },
  {
   "cell_type": "code",
   "execution_count": 10,
   "id": "7419299d-8ea5-4d02-adef-df5cd1aa2cf2",
   "metadata": {},
   "outputs": [
    {
     "data": {
      "text/plain": [
       "array([[0.04132984, 0.54421424, 0.29321083],\n",
       "       [0.56947687, 0.95643031, 0.19861559],\n",
       "       [0.11230425, 0.19932538, 0.86152778]])"
      ]
     },
     "execution_count": 10,
     "metadata": {},
     "output_type": "execute_result"
    }
   ],
   "source": [
    "h=np.random.rand(3,3)    #to create random numbers matrix with given \n",
    "h"
   ]
  },
  {
   "cell_type": "code",
   "execution_count": 11,
   "id": "ed87a829-8523-4f86-8e18-daf4aef9d7d8",
   "metadata": {},
   "outputs": [
    {
     "data": {
      "text/plain": [
       "array([[-1.3194657 ,  0.90671929, -1.49765863],\n",
       "       [-0.01184109,  0.50664157, -2.76100318],\n",
       "       [-0.48701572, -0.80615734, -0.78115098]])"
      ]
     },
     "execution_count": 11,
     "metadata": {},
     "output_type": "execute_result"
    }
   ],
   "source": [
    "# here,If no argument is given a single Python float is returned.\n",
    "\n",
    "i=np.random.randn(3,3)    \n",
    "i"
   ]
  },
  {
   "cell_type": "code",
   "execution_count": 12,
   "id": "a9eee0fc-0657-48d6-b023-c5eab1922ca9",
   "metadata": {},
   "outputs": [
    {
     "data": {
      "text/plain": [
       "array([[4, 8],\n",
       "       [1, 2]], dtype=int32)"
      ]
     },
     "execution_count": 12,
     "metadata": {},
     "output_type": "execute_result"
    }
   ],
   "source": [
    "j=np.random.randint(1,10,(2,2))   #to create a matix with any random number with 2X2 Dimentional\n",
    "j"
   ]
  },
  {
   "cell_type": "code",
   "execution_count": 13,
   "id": "465fcd60-dc3d-45c6-8d12-909302a20eda",
   "metadata": {},
   "outputs": [
    {
     "name": "stdout",
     "output_type": "stream",
     "text": [
      "\n",
      "=== Shape & Dimension ===\n",
      "shape : (2, 3)\n",
      "size: 6\n",
      "Dimensions: 2\n"
     ]
    }
   ],
   "source": [
    "print(\"\\n=== Shape & Dimension ===\")\n",
    "print(\"shape :\",b.shape)\n",
    "print(\"size:\",b.size)\n",
    "print(\"Dimensions:\",b.ndim)"
   ]
  },
  {
   "cell_type": "code",
   "execution_count": 14,
   "id": "77ee4701-229d-4f1f-a271-cde960b62596",
   "metadata": {},
   "outputs": [
    {
     "data": {
      "text/plain": [
       "array([[1],\n",
       "       [2],\n",
       "       [3]])"
      ]
     },
     "execution_count": 14,
     "metadata": {},
     "output_type": "execute_result"
    }
   ],
   "source": [
    "# The numpy.reshape() function is used to change the shape of a NumPy array without altering its underlying data. \n",
    "\n",
    "\n",
    "k=a.reshape(3,1)\n",
    "k"
   ]
  },
  {
   "cell_type": "code",
   "execution_count": 15,
   "id": "da9697d6-1a1d-4759-b63c-5f9dd96ded50",
   "metadata": {},
   "outputs": [
    {
     "data": {
      "text/plain": [
       "array([1, 2, 3])"
      ]
     },
     "execution_count": 15,
     "metadata": {},
     "output_type": "execute_result"
    }
   ],
   "source": [
    "# The numpy.ravel() function in Python's NumPy library is used to flatten a multi-dimensional array into a one-dimensional array.\n",
    "\n",
    "l=np.ravel(k)\n",
    "l"
   ]
  },
  {
   "cell_type": "code",
   "execution_count": 16,
   "id": "bda6c3d7-1163-42ea-9a4b-80a0b1ee8c6f",
   "metadata": {},
   "outputs": [
    {
     "data": {
      "text/plain": [
       "array([[1., 1., 1.],\n",
       "       [1., 1., 1.]])"
      ]
     },
     "execution_count": 16,
     "metadata": {},
     "output_type": "execute_result"
    }
   ],
   "source": [
    "# n NumPy, transpose() is used to reorder the dimensions (axes) of an array if dimensions is 2X3 then it will convert it into 3X2\n",
    "\n",
    "m=np.transpose(c)\n",
    "m"
   ]
  },
  {
   "cell_type": "code",
   "execution_count": 17,
   "id": "47110632-0280-4a55-ae90-a7648f56bdd3",
   "metadata": {},
   "outputs": [
    {
     "data": {
      "text/plain": [
       "array([[1, 2, 3]])"
      ]
     },
     "execution_count": 17,
     "metadata": {},
     "output_type": "execute_result"
    }
   ],
   "source": [
    "# The numpy.expand_dims() function in NumPy is used to add a new axis or dimension to an existing array. \n",
    "\n",
    "n=np.expand_dims(a,axis=0)\n",
    "n"
   ]
  },
  {
   "cell_type": "code",
   "execution_count": 18,
   "id": "ab7c3e1e-02d1-4913-9781-ea3ab6e7bc80",
   "metadata": {},
   "outputs": [
    {
     "name": "stdout",
     "output_type": "stream",
     "text": [
      "\n",
      "=== Descriptive Statistics ===\n",
      "Mean: 3.0\n",
      "Median: 3.0\n",
      "variance: 2.0\n",
      "standard deviation: 1.4142135623730951\n",
      "Q1: 2.0\n",
      "Q2: 4.0\n"
     ]
    }
   ],
   "source": [
    "print(\"\\n=== Descriptive Statistics ===\")\n",
    "arr=[1,2,3,4,5]\n",
    "\n",
    "mean=np.mean(arr)\n",
    "print(\"Mean:\",mean)\n",
    "\n",
    "median=np.median(arr)\n",
    "print(\"Median:\",median)\n",
    "\n",
    "variance=np.var(arr)\n",
    "print(\"variance:\",variance)\n",
    "\n",
    "standard_variation=np.std(arr)\n",
    "print(\"standard deviation:\",standard_variation)\n",
    "\n",
    "q1=np.percentile(arr,25)\n",
    "print(\"Q1:\",q1)\n",
    "\n",
    "q2=np.percentile(arr,75)\n",
    "print(\"Q2:\",q2)\n"
   ]
  },
  {
   "cell_type": "code",
   "execution_count": 19,
   "id": "fdbe37c7-a372-4c72-91c8-c530ac0e93d0",
   "metadata": {},
   "outputs": [
    {
     "name": "stdout",
     "output_type": "stream",
     "text": [
      "\n",
      "=== Indexing & Slicing ===\n",
      "21. First element of a: 1\n",
      "22. Slice a[1:3]: [2 3]\n",
      "23. Last element (a[-1]): 3\n"
     ]
    }
   ],
   "source": [
    "print(\"\\n=== Indexing & Slicing ===\")\n",
    "print(\"21. First element of a:\", a[0])\n",
    "print(\"22. Slice a[1:3]:\", a[1:3])\n",
    "print(\"23. Last element (a[-1]):\", a[-1])"
   ]
  },
  {
   "cell_type": "code",
   "execution_count": 20,
   "id": "1f9adf7f-5190-4e53-b685-9e5feb6dfce6",
   "metadata": {},
   "outputs": [
    {
     "name": "stdout",
     "output_type": "stream",
     "text": [
      "\n",
      "=== Logical Operations ===\n",
      "Boolean mask(a>1): [False  True  True]\n"
     ]
    }
   ],
   "source": [
    "print(\"\\n=== Logical Operations ===\")\n",
    "mask=a>1\n",
    "print(\"Boolean mask(a>1):\",mask)"
   ]
  },
  {
   "cell_type": "code",
   "execution_count": 21,
   "id": "898e676b-f303-4a96-a0b2-26d301ed51c5",
   "metadata": {},
   "outputs": [
    {
     "name": "stdout",
     "output_type": "stream",
     "text": [
      "Filtered element (a>1): [2 3]\n"
     ]
    }
   ],
   "source": [
    "filtered=a[mask]\n",
    "print(\"Filtered element (a>1):\",filtered)"
   ]
  },
  {
   "cell_type": "code",
   "execution_count": 22,
   "id": "ec675597-120e-49d6-b826-2a5f268bafc6",
   "metadata": {},
   "outputs": [
    {
     "name": "stdout",
     "output_type": "stream",
     "text": [
      "Are all elements: True\n"
     ]
    }
   ],
   "source": [
    "y=np.any(a>1)\n",
    "print(\"Are all elements:\",y)"
   ]
  },
  {
   "cell_type": "code",
   "execution_count": 23,
   "id": "d2163aa7-7a56-4b32-92e8-3579ab0f9f9b",
   "metadata": {},
   "outputs": [
    {
     "name": "stdout",
     "output_type": "stream",
     "text": [
      "Are all elements: False\n"
     ]
    }
   ],
   "source": [
    "z=np.all(a>1)\n",
    "print(\"Are all elements:\",z)"
   ]
  },
  {
   "cell_type": "code",
   "execution_count": 24,
   "id": "e5bcd86f-4dc9-4a70-a96e-39cb4b8a17c3",
   "metadata": {},
   "outputs": [
    {
     "name": "stdout",
     "output_type": "stream",
     "text": [
      "\n",
      "=== Aggregation & Utility Functions ===\n",
      "Max of a: 3\n",
      "Min of a: 1\n",
      "Argmax (index of max in a): 2\n",
      "Unique elements in a: [1 2 3]\n"
     ]
    }
   ],
   "source": [
    "print(\"\\n=== Aggregation & Utility Functions ===\")\n",
    "print(\"Max of a:\", np.max(a))\n",
    "print(\"Min of a:\", np.min(a))\n",
    "print(\"Argmax (index of max in a):\", np.argmax(a))\n",
    "print(\"Unique elements in a:\",np.unique(a))\n"
   ]
  },
  {
   "cell_type": "code",
   "execution_count": 25,
   "id": "6aa6d59c-ad42-4763-8d1a-ca6c42781e2f",
   "metadata": {},
   "outputs": [],
   "source": [
    "# Difference between transpose & reshape ?\n",
    "# -> Reshape allows you to transform your matrix into different shapes of your wish.\n",
    "# Transpose compulsorily transforms a m*n matrix to n*m matrix by flipping rows to columns; \n",
    "# meaning the first row in the original matrix becomes the first column in the transposed matrix.\n",
    "\n"
   ]
  }
 ],
 "metadata": {
  "kernelspec": {
   "display_name": "Python 3 (ipykernel)",
   "language": "python",
   "name": "python3"
  },
  "language_info": {
   "codemirror_mode": {
    "name": "ipython",
    "version": 3
   },
   "file_extension": ".py",
   "mimetype": "text/x-python",
   "name": "python",
   "nbconvert_exporter": "python",
   "pygments_lexer": "ipython3",
   "version": "3.13.5"
  }
 },
 "nbformat": 4,
 "nbformat_minor": 5
}
