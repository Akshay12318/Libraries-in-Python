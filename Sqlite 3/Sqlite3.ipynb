{
 "cells": [
  {
   "cell_type": "code",
   "execution_count": 1,
   "id": "397eef80-0e1e-4a26-aa95-2fda72047f5b",
   "metadata": {},
   "outputs": [],
   "source": [
    "# SQLITE3\n",
    "\n",
    "# The Python sqlite3 module provides an interface for interacting with SQLite databases, which are lightweight, serverless, and self-contained. \n",
    "# This module allows you to effortlessly create, manage, and query SQLite databases from Python code."
   ]
  },
  {
   "cell_type": "code",
   "execution_count": 2,
   "id": "f9ee4278-7cd9-43d9-bdea-a1ada483e165",
   "metadata": {},
   "outputs": [],
   "source": [
    "import sqlite3"
   ]
  },
  {
   "cell_type": "code",
   "execution_count": 3,
   "id": "5c4eeb49-71e2-4227-90f5-662f3966067d",
   "metadata": {},
   "outputs": [],
   "source": [
    "# Using Normal method\n",
    "\n",
    "\n",
    "# connection=sqlite3.connect(\"akshay.db\")\n",
    "# cursor=connection.cursor()\n",
    "# command1=\"CREATE TABLE AKKIN (ID NUMBER,SUBJECT VARCHAR(15),MARKS NUMBER)\"\n",
    "# cursor.execute(command1)\n"
   ]
  },
  {
   "cell_type": "code",
   "execution_count": 4,
   "id": "7fc09d9f-6af3-4276-8d7b-45531d80ade2",
   "metadata": {},
   "outputs": [],
   "source": [
    "# using with keyword in python \n",
    "# So, you don’t need to manually call conn.close() in most cases.\n",
    "\n",
    "import sqlite3\n",
    "with sqlite3.connect(\"akshay.db\") as connection:\n",
    "    cursor=connection.cursor()\n",
    "    cursor.execute(\"Create table data(id number primary key,name text)\")    #Creating a table\n",
    "    cursor.execute(\"Insert into data values(02,'Akshay')\")                  #Inserting a values into a created table\n",
    "    connection.commit()\n",
    "    "
   ]
  },
  {
   "cell_type": "code",
   "execution_count": 5,
   "id": "41ac640c-cef2-41d1-98f7-5f3b54589338",
   "metadata": {},
   "outputs": [
    {
     "name": "stdout",
     "output_type": "stream",
     "text": [
      "[(2, 'Akshay')]\n"
     ]
    }
   ],
   "source": [
    "with sqlite3.connect(\"akshay.db\") as connection:\n",
    "    cursor=connection.cursor()\n",
    "    cursor.execute(\"select * from data\")\n",
    "    rows=cursor.fetchall()                       #To see the created table\n",
    "    print(rows)"
   ]
  },
  {
   "cell_type": "code",
   "execution_count": 6,
   "id": "2846d216-97b0-47f5-9ab3-682b65d628e9",
   "metadata": {},
   "outputs": [
    {
     "data": {
      "text/html": [
       "<div>\n",
       "<style scoped>\n",
       "    .dataframe tbody tr th:only-of-type {\n",
       "        vertical-align: middle;\n",
       "    }\n",
       "\n",
       "    .dataframe tbody tr th {\n",
       "        vertical-align: top;\n",
       "    }\n",
       "\n",
       "    .dataframe thead th {\n",
       "        text-align: right;\n",
       "    }\n",
       "</style>\n",
       "<table border=\"1\" class=\"dataframe\">\n",
       "  <thead>\n",
       "    <tr style=\"text-align: right;\">\n",
       "      <th></th>\n",
       "      <th>id</th>\n",
       "      <th>name</th>\n",
       "    </tr>\n",
       "  </thead>\n",
       "  <tbody>\n",
       "    <tr>\n",
       "      <th>0</th>\n",
       "      <td>2</td>\n",
       "      <td>Akshay</td>\n",
       "    </tr>\n",
       "  </tbody>\n",
       "</table>\n",
       "</div>"
      ],
      "text/plain": [
       "   id    name\n",
       "0   2  Akshay"
      ]
     },
     "execution_count": 6,
     "metadata": {},
     "output_type": "execute_result"
    }
   ],
   "source": [
    "# using pandas to see the results more precisely\n",
    "import sqlite3\n",
    "import pandas as pd\n",
    "\n",
    "with sqlite3.connect(\"akshay.db\") as connection:\n",
    "    df=pd.read_sql(\"select * from data\",connection)\n",
    "df\n"
   ]
  },
  {
   "cell_type": "code",
   "execution_count": 7,
   "id": "2c034c6f-7709-4bf8-a649-16e056f81f4e",
   "metadata": {},
   "outputs": [],
   "source": [
    "import sqlite3\n",
    "import pandas as pd\n",
    "with sqlite3.connect(\"akshay.db\") as connection:\n",
    "    df=pd.read_sql(\"select * from data\",connection)\n"
   ]
  },
  {
   "cell_type": "code",
   "execution_count": null,
   "id": "6d291bb1-4b66-451c-b7b0-aa8416b3c662",
   "metadata": {},
   "outputs": [],
   "source": []
  }
 ],
 "metadata": {
  "kernelspec": {
   "display_name": "Python 3 (ipykernel)",
   "language": "python",
   "name": "python3"
  },
  "language_info": {
   "codemirror_mode": {
    "name": "ipython",
    "version": 3
   },
   "file_extension": ".py",
   "mimetype": "text/x-python",
   "name": "python",
   "nbconvert_exporter": "python",
   "pygments_lexer": "ipython3",
   "version": "3.13.5"
  }
 },
 "nbformat": 4,
 "nbformat_minor": 5
}
